{
 "cells": [
  {
   "cell_type": "code",
   "execution_count": 1,
   "metadata": {},
   "outputs": [],
   "source": [
    "import pandas as pd\n",
    "df = pd.read_csv('filtered_self_help_books.csv')\n"
   ]
  },
  {
   "cell_type": "code",
   "execution_count": 4,
   "metadata": {},
   "outputs": [
    {
     "name": "stdout",
     "output_type": "stream",
     "text": [
      "3 summaries from books with external approach and external focus:\n",
      "\n",
      "1. At the turn of the 16th century, Italy was a turbulent territory made up of independent states, each at war with or intriguing against its neighbor. There were the proud, cultivated, and degenerate Sforzas in Milan, and in Rome, the corrupt Spanish family of the Borgia whose head, Rodrigo, ascended to St Peter's throne as Pope Alexander VI. In Florence, a golden age of culture and sophistication ended with the death of the greatest of the Medici family, Lorenzo the Magnificent, giving way to an era of uncertainty, cruelty, and religious fundamentalism.\n",
      "\n",
      "In the midst of this turmoil, there existed the greatest concentration of artists that Europe has ever known. Influenced by the rediscovery of the ancient cultures of Greece and Rome, artists and thinkers such as Botticelli and da Vinci threw off the shackles of the Middle Ages to produce one of the most creative periods in history - the Renaissance.\n",
      "\n",
      "This is the story of twelve years when war, plague, famine, and chaos made their mark on a volatile Italy, and when a young, erratic genius, Michelangelo Buonarroti, made his first great statue - the David. It was to become a symbol not only of the independence and defiance of the city of Florence but also of the tortured soul who created it. This is a wonderful history of the artist, his times, and one of his most magnificent works.\n",
      "\n",
      "2. Ten years before the start of the American Revolution, backcountry settlers in the North Carolina Piedmont launched their own defiant bid for economic independence and political liberty. The Regulator Rebellion of 1766-71 pitted thousands of farmers, many of them religious radicals inspired by the Great Awakening, against political and economic elites who opposed the Regulators' proposed reforms. The conflict culminated on May 16, 1771, when a colonial militia defeated more than 2,000 armed farmers in a pitched battle near Hillsborough. At least 6,000 Regulators and sympathizers were forced to swear their allegiance to the government as the victorious troops undertook a punitive march through Regulator settlements. Seven farmers were hanged.\n",
      "\n",
      "Using sources that include diaries, church minutes, legal papers, and the richly detailed accounts of the Regulators themselves, Marjoleine Kars delves deeply into the world and ideology of free rural colonists. She examines the rebellion's economic, religious, and political roots and explores its legacy in North Carolina and beyond. The compelling story of the Regulator Rebellion reveals just how sharply elite and popular notions of independence differed on the eve of the Revolution.\n",
      "\n",
      "3. In 1971, a man known as DB Cooper hijacked a Northwest Orient airliner flying from Portland, Oregon to Seattle, Washington. After exchanging the passengers at SEA-TAC airport for $200,000 and four parachutes, Cooper instructed the pilots to fly him to \"anywhere in Mexico.” A few minutes after take-off, he lowered the aft staircase and jumped into the chilly, rainy night skies north of Portland.He has never been seen since, and his identity is still unknown. After forty years of investigation the FBI still doesn’t know who Cooper was or if he survived, and nothing has ever been found of the skyjacking—no parachutes, no body or clothes, nor any of the money, except for $5,800 a young boy found eight years later buried on a Columbia River beach. Adding to the intrigue, no one knows how the money got there or when.As a result, it is as if Cooper came from nowhere and returned there when he made his getaway.Now after years of research and writing, a comprehensive case history of the skyjacking is available, and the reader can examine the facts of the case, and assess the FBI's efforts to find DB Cooper. Shockingly, the Bureau’s investigation has been crippled by lost evidence, inaccurate record-keeping, and ineffective leadership. As we learned in 9-11, the FBI has difficulty \"connecting the dots\" in complicated investigations that span multiple jurisdictions, and the same is true with DB Cooper.For example: the FBI gave DB Cooper a 40-hour head start before anyone went looking for him in the woods of southeast Washington State. More troubling, critical evidence has been lost—the eight cigarette butts Cooper left on the plane, which would give us his DNA profile via the dried saliva. Perhaps more disturbing, though, the cigarette butts went missing after their true value was realized in 2002, along with the documentation on the FBI's findings.In addition, the FBI’s chief technical expert, Earl Cossey, was murdered in 2013 when his credibility plummeted as Internet sleuths revealed his fraudulent and deceptive history, and how the FBI was duped. Or was it?But this book is more than a true-crime thriller. \"DB Cooper and the FBI\" reveals how law enforcement truly functions in our country, and so it delivers a measure of justice to the arrogant, the hubristic, and the guilty.\n",
      "\n"
     ]
    }
   ],
   "source": [
    "# Filter for external in_ext and external_focus content_focus\n",
    "filtered_df = df[(df['in_ext'] == 'external') & (df['content_focus'] == 'external_focus')]\n",
    "\n",
    "# Get 3 summaries and print them\n",
    "selected_summaries = filtered_df['summary'].head(3)\n",
    "\n",
    "print(\"3 summaries from books with external approach and external focus:\\n\")\n",
    "for i, summary in enumerate(selected_summaries, 1):\n",
    "    print(f\"{i}. {summary}\\n\")\n"
   ]
  },
  {
   "cell_type": "markdown",
   "metadata": {},
   "source": [
    "<!-- • Which angles correlate with higher ratings?\n",
    "\t•\tCompare star ratings and review breakdowns against factors like author popularity, genre tags, or internal/external forces.\n",
    "\t•\tExample question: “Do books labeled as dealing with external forces have higher average ratings than those focusing on internal forces?”\n",
    "\n",
    "• How does publication date relate to themes?\n",
    "\t•\tLook for trends across time.\n",
    "\t•\tExample: “Did the percentage of self-help books discussing external/social issues grow after certain historical events?”\n",
    "\n",
    "• Are certain genres linked to specific review patterns?\n",
    "\t•\tCheck if combining self-help with another genre (e.g., Psychology vs. Religion) affects ratings or the ratio of ‘want to read’ to ‘currently reading.’\n",
    "\n",
    "• Does author popularity align with book reception?\n",
    "\t•\tCompare an author’s follower count or total published works with star ratings, total reviews, or ‘want to read’ numbers.\n",
    "\n",
    "• Internal vs. External forces emphasis\n",
    "\t•\tUse the NLP tagging (internal or external) to see if books addressing external forces attract different audiences or star ratings.\n",
    "\t•\tExample: “Which category sees more ‘currently reading’ spikes—books focusing on personal mindset or books focusing on systemic challenges?”\n",
    "\n",
    "• Pricing vs. popularity\n",
    "\t•\tMap Kindle prices to ‘want to read’ or star ratings.\n",
    "\t•\tAsk: “Are pricier titles perceived as more authoritative, or do they see fewer readers?”\n",
    "x \n",
    "• Simple visualizations\n",
    "\t•\tTimeline/line chart: Plot how many self-help books were published each year, color-coded by internal vs. external force focus.\n",
    "\t•\tScatter/bubble chart: X-axis = publication date; Y-axis = average rating; bubble size = number of ratings; bubble color = internal/external emphasis.\n",
    "\t•\tStacked bar chart: Compare genre overlap frequencies (e.g., how often self-help + religion vs. self-help + business appears).\n",
    "\t•\tHeat map: Show correlation between variables like star rating, number of followers, and price.\n",
    "\t•\tWord cloud or text analysis: Visualize the most common words in descriptions for top-rated vs. lower-rated books.\n",
    "\n",
    "These questions and visual approaches can reveal patterns around how self-help evolves, how readers respond, and how that ties back to the thesis on internal vs. external influences in personal growth. -->"
   ]
  },
  {
   "cell_type": "code",
   "execution_count": 2,
   "metadata": {},
   "outputs": [],
   "source": [
    "import pandas as pd\n",
    "\n",
    "# Read the filtered books sample CSV file\n",
    "df = pd.read_csv('filtered_books_sample_0211.csv')\n"
   ]
  },
  {
   "cell_type": "code",
   "execution_count": null,
   "metadata": {},
   "outputs": [],
   "source": []
  }
 ],
 "metadata": {
  "kernelspec": {
   "display_name": "myenv",
   "language": "python",
   "name": "python3"
  },
  "language_info": {
   "codemirror_mode": {
    "name": "ipython",
    "version": 3
   },
   "file_extension": ".py",
   "mimetype": "text/x-python",
   "name": "python",
   "nbconvert_exporter": "python",
   "pygments_lexer": "ipython3",
   "version": "3.9.20"
  }
 },
 "nbformat": 4,
 "nbformat_minor": 2
}
